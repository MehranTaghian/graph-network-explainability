{
 "cells": [
  {
   "cell_type": "markdown",
   "metadata": {},
   "source": [
    "# LRP for Linear + ReLU $\\def\\bm#1{{\\bf #1}}$"
   ]
  },
  {
   "cell_type": "code",
   "execution_count": 1,
   "metadata": {},
   "outputs": [],
   "source": [
    "import torch\n",
    "import numpy as np\n",
    "import torch_scatter\n",
    "\n",
    "import sympy\n",
    "from IPython.display import display, Latex\n",
    "sympy.init_printing(use_latex=True)\n",
    "torch.Tensor._repr_latex_ = lambda self: f'${sympy.latex(sympy.Matrix(self.numpy().round(2)))}$'"
   ]
  },
  {
   "cell_type": "markdown",
   "metadata": {},
   "source": [
    "## Vectorize a simple matrix product\n",
    "$$\n",
    "y_j = \\sum_i w_{ji} x_i \\qquad \\bm{y} = \\bm{W} \\bm{x}\n",
    "$$"
   ]
  },
  {
   "cell_type": "code",
   "execution_count": 2,
   "metadata": {},
   "outputs": [],
   "source": [
    "W = torch.tensor([\n",
    "    [1, 1, 0],\n",
    "    [0, 1, 2]\n",
    "], dtype=torch.float)\n",
    "x = torch.tensor([1,1,1.]).view(-1, 1)"
   ]
  },
  {
   "cell_type": "code",
   "execution_count": 3,
   "metadata": {},
   "outputs": [],
   "source": [
    "y = torch.zeros(len(W), 1)\n",
    "for j in range(len(y)):\n",
    "    for i in range(len(x)):\n",
    "        y[j] += W[j, i] * x[i]"
   ]
  },
  {
   "cell_type": "code",
   "execution_count": 4,
   "metadata": {},
   "outputs": [],
   "source": [
    "y = torch.zeros(len(W), 1)\n",
    "for j in range(len(y)):\n",
    "    y[j] = sum(W[j, ii] * x[ii] for ii in range(len(x)))"
   ]
  },
  {
   "cell_type": "code",
   "execution_count": 5,
   "metadata": {},
   "outputs": [],
   "source": [
    "y = torch.zeros(len(W), 1)\n",
    "for j in range(len(y)):\n",
    "    y[j] = W[j] @ x"
   ]
  },
  {
   "cell_type": "code",
   "execution_count": 6,
   "metadata": {},
   "outputs": [],
   "source": [
    "y = W @ x"
   ]
  },
  {
   "cell_type": "code",
   "execution_count": 7,
   "metadata": {},
   "outputs": [
    {
     "data": {
      "text/latex": [
       "$$ \n",
       "\\underbrace{\\left[\\begin{matrix}1 & 1 & 0\\\\0 & 1 & 2\\end{matrix}\\right]}_{W} \\cdot\n",
       "\\underbrace{\\left[\\begin{matrix}1\\\\1\\\\1\\end{matrix}\\right]}_{x} = \n",
       "\\underbrace{\\left[\\begin{matrix}2\\\\3\\end{matrix}\\right]}_{y} $$"
      ],
      "text/plain": [
       "<IPython.core.display.Latex object>"
      ]
     },
     "execution_count": 7,
     "metadata": {},
     "output_type": "execute_result"
    }
   ],
   "source": [
    "Latex(fr'''$$ \n",
    "\\underbrace{{{sympy.latex(sympy.Matrix(W.int()))}}}_{{W}} \\cdot\n",
    "\\underbrace{{{sympy.latex(sympy.Matrix(x.int()))}}}_{{x}} = \n",
    "\\underbrace{{{sympy.latex(sympy.Matrix(y.int()))}}}_{{y}} $$''')"
   ]
  },
  {
   "cell_type": "markdown",
   "metadata": {},
   "source": [
    "## Vectorize LRP\n",
    "$$\n",
    "R_i = x_i \\sum_j \\frac{w_{ij}}{\\sum_{i'} w_{ji'} x_{i'}} Q_j\n",
    "$$"
   ]
  },
  {
   "cell_type": "code",
   "execution_count": 8,
   "metadata": {},
   "outputs": [],
   "source": [
    "W = torch.tensor([\n",
    "    [1, 1, 0],\n",
    "    [0, 1, 2]\n",
    "], dtype=torch.float)\n",
    "x = torch.tensor([1,1,1.]).view(-1, 1)\n",
    "y = W @ x\n",
    "Q = torch.ones_like(y)"
   ]
  },
  {
   "cell_type": "code",
   "execution_count": 9,
   "metadata": {},
   "outputs": [],
   "source": [
    "R = torch.zeros_like(x)\n",
    "for i in range(len(R)):\n",
    "    for j in range(len(Q)):\n",
    "        den = sum(W[j, ii] * x[ii] for ii in range(len(x)))\n",
    "        R[i] += W[j, i] * Q[j] / den\n",
    "    R[i] *= x[i]"
   ]
  },
  {
   "cell_type": "code",
   "execution_count": 10,
   "metadata": {},
   "outputs": [],
   "source": [
    "R = torch.zeros_like(x)\n",
    "for i in range(len(R)):\n",
    "    for j in range(len(Q)):\n",
    "        den = W[j] @ x\n",
    "        R[i] += W[j, i] * Q[j] / den\n",
    "    R[i] *= x[i]"
   ]
  },
  {
   "cell_type": "code",
   "execution_count": 11,
   "metadata": {},
   "outputs": [],
   "source": [
    "R = torch.zeros_like(x)\n",
    "den = W @ x\n",
    "for i in range(len(R)):\n",
    "    for j in range(len(Q)):\n",
    "        R[i] += W[j, i] * Q[j] / den[j]\n",
    "    R[i] *= x[i]"
   ]
  },
  {
   "cell_type": "code",
   "execution_count": 12,
   "metadata": {},
   "outputs": [],
   "source": [
    "R = torch.zeros_like(x)\n",
    "den = W @ x\n",
    "prod = Q / den\n",
    "for i in range(len(R)):\n",
    "    for j in range(len(Q)):\n",
    "        R[i] += W[j, i] * prod[j]\n",
    "    R[i] *= x[i]"
   ]
  },
  {
   "cell_type": "code",
   "execution_count": 13,
   "metadata": {},
   "outputs": [],
   "source": [
    "R = torch.zeros_like(x)\n",
    "den = W @ x\n",
    "prod = Q / den\n",
    "for i in range(len(R)):\n",
    "    R[i] = sum(W[j, i] * prod[j] for j in range(len(Q)) )\n",
    "    R[i] *= x[i]"
   ]
  },
  {
   "cell_type": "code",
   "execution_count": 14,
   "metadata": {},
   "outputs": [],
   "source": [
    "R = torch.zeros_like(x)\n",
    "den = W @ x\n",
    "prod = Q / den\n",
    "R = W.t() @ prod\n",
    "for i in range(len(R)):\n",
    "    R[i] *= x[i]"
   ]
  },
  {
   "cell_type": "code",
   "execution_count": 15,
   "metadata": {},
   "outputs": [],
   "source": [
    "R = torch.zeros_like(x)\n",
    "den = W @ x\n",
    "prod = Q / den\n",
    "R = x * (W.t() @ prod)"
   ]
  },
  {
   "cell_type": "code",
   "execution_count": 16,
   "metadata": {},
   "outputs": [],
   "source": [
    "R = x * (W.t() @ (Q / (W @ x)))"
   ]
  },
  {
   "cell_type": "code",
   "execution_count": 17,
   "metadata": {},
   "outputs": [
    {
     "data": {
      "text/latex": [
       "$$ \n",
       "\\underbrace{\\left[\\begin{matrix}0.5\\\\0.83\\\\0.67\\end{matrix}\\right]}_{R} \\qquad\n",
       "\\underbrace{\\left[\\begin{matrix}1 & 1 & 0\\\\0 & 1 & 2\\end{matrix}\\right]}_{W} \\cdot\n",
       "\\underbrace{\\left[\\begin{matrix}1\\\\1\\\\1\\end{matrix}\\right]}_{x} = \n",
       "\\underbrace{\\left[\\begin{matrix}2\\\\3\\end{matrix}\\right]}_{y} \\qquad\n",
       "\\underbrace{\\left[\\begin{matrix}1\\\\1\\end{matrix}\\right]}_{Q} $$"
      ],
      "text/plain": [
       "<IPython.core.display.Latex object>"
      ]
     },
     "execution_count": 17,
     "metadata": {},
     "output_type": "execute_result"
    }
   ],
   "source": [
    "Latex(fr'''$$ \n",
    "\\underbrace{{{sympy.latex(sympy.Matrix(R.numpy().round(2)))}}}_{{R}} \\qquad\n",
    "\\underbrace{{{sympy.latex(sympy.Matrix(W.int()))}}}_{{W}} \\cdot\n",
    "\\underbrace{{{sympy.latex(sympy.Matrix(x.int()))}}}_{{x}} = \n",
    "\\underbrace{{{sympy.latex(sympy.Matrix(y.int()))}}}_{{y}} \\qquad\n",
    "\\underbrace{{{sympy.latex(sympy.Matrix(Q.int()))}}}_{{Q}} $$''')"
   ]
  },
  {
   "cell_type": "markdown",
   "metadata": {},
   "source": [
    "## LRP batch version\n",
    "\n",
    "Instead of having $x$ as a single column vector of size 3, we have $X$ which is $N \\times 3$"
   ]
  },
  {
   "cell_type": "code",
   "execution_count": 18,
   "metadata": {},
   "outputs": [],
   "source": [
    "W = torch.tensor([\n",
    "    [-1, 1, 0],\n",
    "    [ 0, 1, 2]\n",
    "], dtype=torch.float)\n",
    "b = torch.tensor([0, 0], dtype=torch.float)\n",
    "\n",
    "X = torch.tensor([\n",
    "    [1, 1, 1],\n",
    "    [1, 2, 3],\n",
    "    [0, 3, 2],\n",
    "    [3, 0, 2],\n",
    "    [1, 2, 0],\n",
    "    [1, 0, 0],\n",
    "    [0, 0, 1],\n",
    "], dtype=torch.float)\n",
    "\n",
    "Y = (X @ W.t() + b).clamp(min=0)"
   ]
  },
  {
   "cell_type": "code",
   "execution_count": 19,
   "metadata": {},
   "outputs": [
    {
     "data": {
      "text/latex": [
       "$$ \n",
       "\\text{ReLU} \\Big(\n",
       "\\underbrace{\\left[\\begin{matrix}1.0 & 1.0 & 1.0\\\\1.0 & 2.0 & 3.0\\\\0.0 & 3.0 & 2.0\\\\3.0 & 0.0 & 2.0\\\\1.0 & 2.0 & 0.0\\\\1.0 & 0.0 & 0.0\\\\0.0 & 0.0 & 1.0\\end{matrix}\\right]}_{X} \\cdot\n",
       "\\underbrace{\\left[\\begin{matrix}-1.0 & 0.0\\\\1.0 & 1.0\\\\0.0 & 2.0\\end{matrix}\\right]}_{W^T} \\Big) = \n",
       "\\underbrace{\\left[\\begin{matrix}0.0 & 3.0\\\\1.0 & 8.0\\\\3.0 & 7.0\\\\0.0 & 4.0\\\\1.0 & 2.0\\\\0.0 & 0.0\\\\0.0 & 2.0\\end{matrix}\\right]}_{Y}$$"
      ],
      "text/plain": [
       "<IPython.core.display.Latex object>"
      ]
     },
     "execution_count": 19,
     "metadata": {},
     "output_type": "execute_result"
    }
   ],
   "source": [
    "Latex(fr'''$$ \n",
    "\\text{{ReLU}} \\Big(\n",
    "\\underbrace{{{sympy.latex(sympy.Matrix(X))}}}_{{X}} \\cdot\n",
    "\\underbrace{{{sympy.latex(sympy.Matrix(W.t()))}}}_{{W^T}} \\Big) = \n",
    "\\underbrace{{{sympy.latex(sympy.Matrix(Y))}}}_{{Y}}$$''')"
   ]
  },
  {
   "cell_type": "markdown",
   "metadata": {},
   "source": [
    "$W^{2}$ rule for $\\mathbb{R}^D$"
   ]
  },
  {
   "cell_type": "code",
   "execution_count": 20,
   "metadata": {},
   "outputs": [],
   "source": [
    "Q = torch.ones_like(Y) * (Y != 0).float()\n",
    "R = Q @ (W.pow(2) / (W.pow(2).sum(dim=1, keepdim=True) + 10e-6))"
   ]
  },
  {
   "cell_type": "code",
   "execution_count": 21,
   "metadata": {},
   "outputs": [
    {
     "data": {
      "text/latex": [
       "$$ \n",
       "\\underbrace{\\left[\\begin{matrix}0.0 & 0.2 & 0.8\\\\0.5 & 0.7 & 0.8\\\\0.5 & 0.7 & 0.8\\\\0.0 & 0.2 & 0.8\\\\0.5 & 0.7 & 0.8\\\\0.0 & 0.0 & 0.0\\\\0.0 & 0.2 & 0.8\\end{matrix}\\right]}_{R} \\qquad\n",
       "\\text{ReLU} \\Big(\n",
       "\\underbrace{\\left[\\begin{matrix}1 & 1 & 1\\\\1 & 2 & 3\\\\0 & 3 & 2\\\\3 & 0 & 2\\\\1 & 2 & 0\\\\1 & 0 & 0\\\\0 & 0 & 1\\end{matrix}\\right]}_{X} \\cdot\n",
       "\\underbrace{\\left[\\begin{matrix}-1 & 0\\\\1 & 1\\\\0 & 2\\end{matrix}\\right]}_{W^T} \\Big) = \n",
       "\\underbrace{\\left[\\begin{matrix}0 & 3\\\\1 & 8\\\\3 & 7\\\\0 & 4\\\\1 & 2\\\\0 & 0\\\\0 & 2\\end{matrix}\\right]}_{Y} \\qquad\n",
       "\\underbrace{\\left[\\begin{matrix}0 & 1\\\\1 & 1\\\\1 & 1\\\\0 & 1\\\\1 & 1\\\\0 & 0\\\\0 & 1\\end{matrix}\\right]}_{Q} $$"
      ],
      "text/plain": [
       "<IPython.core.display.Latex object>"
      ]
     },
     "execution_count": 21,
     "metadata": {},
     "output_type": "execute_result"
    }
   ],
   "source": [
    "Latex(fr'''$$ \n",
    "\\underbrace{{{sympy.latex(sympy.Matrix(R.numpy().round(2)))}}}_{{R}} \\qquad\n",
    "\\text{{ReLU}} \\Big(\n",
    "\\underbrace{{{sympy.latex(sympy.Matrix(X.int()))}}}_{{X}} \\cdot\n",
    "\\underbrace{{{sympy.latex(sympy.Matrix(W.t().int()))}}}_{{W^T}} \\Big) = \n",
    "\\underbrace{{{sympy.latex(sympy.Matrix(Y.int()))}}}_{{Y}} \\qquad\n",
    "\\underbrace{{{sympy.latex(sympy.Matrix(Q.int()))}}}_{{Q}} $$''')"
   ]
  },
  {
   "cell_type": "markdown",
   "metadata": {},
   "source": [
    "$z$ rule for $\\mathbb{R}_+^D$"
   ]
  },
  {
   "cell_type": "code",
   "execution_count": 22,
   "metadata": {},
   "outputs": [],
   "source": [
    "Q = torch.ones_like(Y) * (Y != 0).float()\n",
    "R = X * ((Q / (X @ W.t() + 10e-6)) @ W)"
   ]
  },
  {
   "cell_type": "code",
   "execution_count": 23,
   "metadata": {},
   "outputs": [
    {
     "data": {
      "text/latex": [
       "$$ \n",
       "\\underbrace{\\left[\\begin{matrix}0.0 & 0.33 & 0.67\\\\-1.0 & 2.25 & 0.75\\\\0.0 & 1.43 & 0.57\\\\0.0 & 0.0 & 1.0\\\\-1.0 & 3.0 & 0.0\\\\0.0 & 0.0 & 0.0\\\\0.0 & 0.0 & 1.0\\end{matrix}\\right]}_{R} \\qquad\n",
       "\\text{ReLU} \\Big(\n",
       "\\underbrace{\\left[\\begin{matrix}1 & 1 & 1\\\\1 & 2 & 3\\\\0 & 3 & 2\\\\3 & 0 & 2\\\\1 & 2 & 0\\\\1 & 0 & 0\\\\0 & 0 & 1\\end{matrix}\\right]}_{X} \\cdot\n",
       "\\underbrace{\\left[\\begin{matrix}-1 & 0\\\\1 & 1\\\\0 & 2\\end{matrix}\\right]}_{W^T} \\Big) = \n",
       "\\underbrace{\\left[\\begin{matrix}0 & 3\\\\1 & 8\\\\3 & 7\\\\0 & 4\\\\1 & 2\\\\0 & 0\\\\0 & 2\\end{matrix}\\right]}_{Y} \\qquad\n",
       "\\underbrace{\\left[\\begin{matrix}0 & 1\\\\1 & 1\\\\1 & 1\\\\0 & 1\\\\1 & 1\\\\0 & 0\\\\0 & 1\\end{matrix}\\right]}_{Q} $$"
      ],
      "text/plain": [
       "<IPython.core.display.Latex object>"
      ]
     },
     "execution_count": 23,
     "metadata": {},
     "output_type": "execute_result"
    }
   ],
   "source": [
    "Latex(fr'''$$ \n",
    "\\underbrace{{{sympy.latex(sympy.Matrix(R.numpy().round(2)))}}}_{{R}} \\qquad\n",
    "\\text{{ReLU}} \\Big(\n",
    "\\underbrace{{{sympy.latex(sympy.Matrix(X.int()))}}}_{{X}} \\cdot\n",
    "\\underbrace{{{sympy.latex(sympy.Matrix(W.t().int()))}}}_{{W^T}} \\Big) = \n",
    "\\underbrace{{{sympy.latex(sympy.Matrix(Y.int()))}}}_{{Y}} \\qquad\n",
    "\\underbrace{{{sympy.latex(sympy.Matrix(Q.int()))}}}_{{Q}} $$''')"
   ]
  },
  {
   "cell_type": "markdown",
   "metadata": {},
   "source": [
    "$z^+$ rule for $\\mathbb{R}_+^D$"
   ]
  },
  {
   "cell_type": "code",
   "execution_count": 24,
   "metadata": {},
   "outputs": [],
   "source": [
    "Q = torch.ones_like(Y) * (Y != 0).float()\n",
    "R = X * ((Q / (X @ W.clamp(min=0).t() + 10e-6)) @ W.clamp(min=0))"
   ]
  },
  {
   "cell_type": "code",
   "execution_count": 25,
   "metadata": {},
   "outputs": [
    {
     "data": {
      "text/latex": [
       "$$ \n",
       "\\underbrace{\\left[\\begin{matrix}0.0 & 0.33 & 0.67\\\\0.0 & 1.25 & 0.75\\\\0.0 & 1.43 & 0.57\\\\0.0 & 0.0 & 1.0\\\\0.0 & 2.0 & 0.0\\\\0.0 & 0.0 & 0.0\\\\0.0 & 0.0 & 1.0\\end{matrix}\\right]}_{R} \\qquad\n",
       "\\text{ReLU} \\Big(\n",
       "\\underbrace{\\left[\\begin{matrix}1 & 1 & 1\\\\1 & 2 & 3\\\\0 & 3 & 2\\\\3 & 0 & 2\\\\1 & 2 & 0\\\\1 & 0 & 0\\\\0 & 0 & 1\\end{matrix}\\right]}_{X} \\cdot\n",
       "\\underbrace{\\left[\\begin{matrix}-1 & 0\\\\1 & 1\\\\0 & 2\\end{matrix}\\right]}_{W^T} \\Big) = \n",
       "\\underbrace{\\left[\\begin{matrix}0 & 3\\\\1 & 8\\\\3 & 7\\\\0 & 4\\\\1 & 2\\\\0 & 0\\\\0 & 2\\end{matrix}\\right]}_{Y} \\qquad\n",
       "\\underbrace{\\left[\\begin{matrix}0 & 1\\\\1 & 1\\\\1 & 1\\\\0 & 1\\\\1 & 1\\\\0 & 0\\\\0 & 1\\end{matrix}\\right]}_{Q} $$"
      ],
      "text/plain": [
       "<IPython.core.display.Latex object>"
      ]
     },
     "execution_count": 25,
     "metadata": {},
     "output_type": "execute_result"
    }
   ],
   "source": [
    "Latex(fr'''$$ \n",
    "\\underbrace{{{sympy.latex(sympy.Matrix(R.numpy().round(2)))}}}_{{R}} \\qquad\n",
    "\\text{{ReLU}} \\Big(\n",
    "\\underbrace{{{sympy.latex(sympy.Matrix(X.int()))}}}_{{X}} \\cdot\n",
    "\\underbrace{{{sympy.latex(sympy.Matrix(W.t().int()))}}}_{{W^T}} \\Big) = \n",
    "\\underbrace{{{sympy.latex(sympy.Matrix(Y.int()))}}}_{{Y}} \\qquad\n",
    "\\underbrace{{{sympy.latex(sympy.Matrix(Q.int()))}}}_{{Q}} $$''')"
   ]
  }
 ],
 "metadata": {
  "kernelspec": {
   "display_name": "Python [conda env:notes]",
   "language": "python",
   "name": "conda-env-notes-py"
  },
  "language_info": {
   "codemirror_mode": {
    "name": "ipython",
    "version": 3
   },
   "file_extension": ".py",
   "mimetype": "text/x-python",
   "name": "python",
   "nbconvert_exporter": "python",
   "pygments_lexer": "ipython3",
   "version": "3.7.2"
  }
 },
 "nbformat": 4,
 "nbformat_minor": 2
}
